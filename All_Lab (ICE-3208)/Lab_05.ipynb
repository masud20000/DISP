{
 "cells": [
  {
   "cell_type": "markdown",
   "metadata": {},
   "source": [
    "Lab-05: Write a program to execute the following edge detections\n",
    "• Canny edge detection\n",
    "• Prewitt edge detection\n",
    "• Sobel edge detection"
   ]
  },
  {
   "cell_type": "code",
   "execution_count": null,
   "metadata": {},
   "outputs": [],
   "source": [
    "import cv2\n",
    "import matplotlib.pyplot as plt\n",
    "# Read the image\n",
    "image = cv2.imread(r'C:\\Users\\User\\OneDrive\\Desktop\\PIC\\Dog5.jpg', cv2.IMREAD_GRAYSCALE)\n",
    "# Canny edge detection\n",
    "edges_canny = cv2.Canny(image, 100, 200)\n",
    "# Prewitt edge detection\n",
    "kernelx_prewitt = cv2.getDerivKernels(1, 0, 3)\n",
    "kernely_prewitt = cv2.getDerivKernels(0, 1, 3)\n",
    "edges_prewitt_x = cv2.filter2D(image, -1, kernelx_prewitt[0] * kernely_prewitt[0].T)\n",
    "edges_prewitt_y = cv2.filter2D(image, -1, kernely_prewitt[0] * kernelx_prewitt[0].T)\n",
    "edges_prewitt = edges_prewitt_x + edges_prewitt_y\n",
    "# Sobel edge detection\n",
    "edges_sobel_x = cv2.Sobel(image, cv2.CV_64F, 1, 0, ksize=3)\n",
    "edges_sobel_y = cv2.Sobel(image, cv2.CV_64F, 0, 1, ksize=3)\n",
    "edges_sobel = cv2.magnitude(edges_sobel_x, edges_sobel_y)\n",
    "# Plotting18\n",
    "fig, axes = plt.subplots(1, 4, figsize=(15, 5))\n",
    "axes[0].imshow(image, cmap='gray')\n",
    "axes[0].set_title('Original Image')\n",
    "axes[0].axis('off')\n",
    "axes[1].imshow(edges_canny, cmap='gray')\n",
    "axes[1].set_title('Canny Edge Detection')\n",
    "axes[1].axis('off')\n",
    "axes[2].imshow(edges_prewitt, cmap='gray')\n",
    "axes[2].set_title('Prewitt Edge Detection')\n",
    "axes[2].axis('off')\n",
    "axes[3].imshow(edges_sobel, cmap='gray')\n",
    "axes[3].set_title('Sobel Edge Detection')\n",
    "axes[3].axis('off')\n",
    "plt.tight_layout()\n",
    "plt.show()"
   ]
  }
 ],
 "metadata": {
  "kernelspec": {
   "display_name": "Python 3",
   "language": "python",
   "name": "python3"
  },
  "language_info": {
   "codemirror_mode": {
    "name": "ipython",
    "version": 3
   },
   "file_extension": ".py",
   "mimetype": "text/x-python",
   "name": "python",
   "nbconvert_exporter": "python",
   "pygments_lexer": "ipython3",
   "version": "3.11.1"
  }
 },
 "nbformat": 4,
 "nbformat_minor": 2
}
